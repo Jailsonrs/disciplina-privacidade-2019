{
 "cells": [
  {
   "cell_type": "code",
   "execution_count": 11,
   "metadata": {},
   "outputs": [],
   "source": [
    "import numpy as np\n",
    "import pandas as pd\n",
    "from scipy.stats import laplace\n",
    "import matplotlib.pyplot as plt\n",
    "import math\n",
    "import gc\n",
    "import inspect\n",
    "gc.enable()"
   ]
  },
  {
   "cell_type": "markdown",
   "metadata": {},
   "source": [
    "### **Lendo dados**"
   ]
  },
  {
   "cell_type": "code",
   "execution_count": 12,
   "metadata": {},
   "outputs": [],
   "source": [
    "adult = pd.read_csv(\"./data/raw/adult.csv\")\n",
    "adult = adult.rename(columns = {\"class\":\"Classe\"})"
   ]
  },
  {
   "cell_type": "markdown",
   "metadata": {},
   "source": [
    "### ***Definindo consultas***"
   ]
  },
  {
   "cell_type": "code",
   "execution_count": 13,
   "metadata": {},
   "outputs": [],
   "source": [
    "def Consulta(q, data, colname):\n",
    "    Q = {'avg': np.mean,\n",
    "         'soma': np.sum}\n",
    "    return(Q[q](data[colname])) "
   ]
  },
  {
   "cell_type": "code",
   "execution_count": 14,
   "metadata": {},
   "outputs": [],
   "source": [
    "def Contagem(dataset, condicao):\n",
    "    return(dataset[(dataset.Classe == condicao)].count()[1])"
   ]
  },
  {
   "cell_type": "code",
   "execution_count": 15,
   "metadata": {},
   "outputs": [],
   "source": [
    "def agg(dataset):\n",
    "    Consultas = [Consulta('avg', dataset, 'age'),\n",
    "                 Consulta('soma', dataset, 'capitalgain'),\n",
    "                 Consulta('avg', dataset, 'hoursperweek'),\n",
    "                 Contagem(dataset, \">50K\")\n",
    "                ]\n",
    "    return(Consultas)"
   ]
  },
  {
   "cell_type": "markdown",
   "metadata": {},
   "source": [
    "### ***Calculo sensibilidade Global***"
   ]
  },
  {
   "cell_type": "code",
   "execution_count": 16,
   "metadata": {},
   "outputs": [],
   "source": [
    "def distancia(bd1, bd2):\n",
    "    dists = [0]*4\n",
    "    a, b = agg(bd1), agg(bd2)\n",
    "    for i in range(0, 3):\n",
    "        dists[i] = np.linalg.norm(a[i]-b[i])\n",
    "    return(dists)"
   ]
  },
  {
   "cell_type": "code",
   "execution_count": 17,
   "metadata": {},
   "outputs": [],
   "source": [
    "Deltas = pd.DataFrame({ 'q1':[], 'q2':[], 'q3':[], 'q4':[] })"
   ]
  },
  {
   "cell_type": "code",
   "execution_count": 18,
   "metadata": {},
   "outputs": [
    {
     "data": {
      "text/plain": [
       "14"
      ]
     },
     "execution_count": 18,
     "metadata": {},
     "output_type": "execute_result"
    }
   ],
   "source": [
    "for index, row in adult.iterrows():\n",
    "    Distancia = pd.DataFrame(distancia(adult, adult.drop(index)))\n",
    "    Distancia.index, Distancia = ['q1', 'q2', 'q3', 'q4'], Distancia.transpose()\n",
    "    Deltas = Deltas.append(Distancia)  \n",
    "gc.collect()"
   ]
  },
  {
   "cell_type": "code",
   "execution_count": 19,
   "metadata": {},
   "outputs": [
    {
     "name": "stdout",
     "output_type": "stream",
     "text": [
      "\n",
      "Sensibilidade Avg(age): \n",
      " 4.5636285693984036e-05 \t\n",
      "\n",
      "Sensibilidade Sum(capitalgain): \n",
      " 4.0 \t\n",
      "\n",
      "Sensibilidade Avg(hoursperweek): \n",
      " 4.19586378328507e-05 \t\n",
      "\n",
      "Sensibilidade Count(>50K): \n",
      " 1.0 \t\n"
     ]
    }
   ],
   "source": [
    "MaxDeltas = Deltas.apply(lambda x: max(x))\n",
    "MaxDeltas[3] = 1\n",
    "Q=['Avg(age)', \"Sum(capitalgain)\", 'Avg(hoursperweek)', 'Count(>50K)']\n",
    "for i in range(0, 4):\n",
    "    print(\"\\nSensibilidade\", Q[i]+\":\", '\\n', MaxDeltas[i], \"\\t\")"
   ]
  },
  {
   "cell_type": "markdown",
   "metadata": {},
   "source": [
    "#### **Adicionando ruido à consulta**"
   ]
  },
  {
   "cell_type": "code",
   "execution_count": null,
   "metadata": {},
   "outputs": [],
   "source": [
    "datasetFinal = pd.DataFrame(datasetFinal, \n",
    "                            columns = ['budget', \n",
    "                                       'q1',\n",
    "                                       'q2', \n",
    "                                       'q3', \n",
    "                                       'q4', \n",
    "                                       'sens q1',\n",
    "                                       'sens q2',\n",
    "                                       'sens q3',\n",
    "                                       'sens q4'])"
   ]
  },
  {
   "cell_type": "code",
   "execution_count": 21,
   "metadata": {},
   "outputs": [],
   "source": [
    "eps = [0.1, 1, 10]\n",
    "def Priv(data, sens, eps):\n",
    "    err = []\n",
    "    sens = np.asarray(sens)\n",
    "    for j in range(1, len(eps)+1):\n",
    "        for i in range(1, len(sens)+1):\n",
    "            err.append((laplace.rvs((sens[i-1]/eps[j-1]), 0)))\n",
    "    err = np.array(err)\n",
    "    q = np.repeat(np.array(agg(adult)), [3 for i in range(0, len(sens))], axis = 0)\n",
    "    results = pd.DataFrame({\n",
    "        'x~Laplace':err, \n",
    "        'Sens.':np.repeat(sens, [3 for i in range(0, len(sens))], axis = 0),\n",
    "        'Q+x':q+err,\n",
    "        'Q':q\n",
    "    }).transpose()\n",
    "    return(results)"
   ]
  },
  {
   "cell_type": "code",
   "execution_count": 23,
   "metadata": {},
   "outputs": [
    {
     "data": {
      "text/plain": [
       "q1    0.000046\n",
       "q2    4.000000\n",
       "q3    0.000042\n",
       "q4    1.000000\n",
       "dtype: float64"
      ]
     },
     "execution_count": 23,
     "metadata": {},
     "output_type": "execute_result"
    }
   ],
   "source": [
    "MaxDeltas"
   ]
  },
  {
   "cell_type": "code",
   "execution_count": 22,
   "metadata": {},
   "outputs": [
    {
     "data": {
      "text/html": [
       "<div>\n",
       "<style scoped>\n",
       "    .dataframe tbody tr th:only-of-type {\n",
       "        vertical-align: middle;\n",
       "    }\n",
       "\n",
       "    .dataframe tbody tr th {\n",
       "        vertical-align: top;\n",
       "    }\n",
       "\n",
       "    .dataframe thead th {\n",
       "        text-align: right;\n",
       "    }\n",
       "</style>\n",
       "<table border=\"1\" class=\"dataframe\">\n",
       "  <thead>\n",
       "    <tr style=\"text-align: right;\">\n",
       "      <th></th>\n",
       "      <th>0</th>\n",
       "      <th>1</th>\n",
       "      <th>2</th>\n",
       "      <th>3</th>\n",
       "      <th>4</th>\n",
       "      <th>5</th>\n",
       "      <th>6</th>\n",
       "      <th>7</th>\n",
       "      <th>8</th>\n",
       "      <th>9</th>\n",
       "      <th>10</th>\n",
       "      <th>11</th>\n",
       "    </tr>\n",
       "  </thead>\n",
       "  <tbody>\n",
       "    <tr>\n",
       "      <th>x~Laplace</th>\n",
       "      <td>0.000456</td>\n",
       "      <td>40.000000</td>\n",
       "      <td>0.000420</td>\n",
       "      <td>10.0</td>\n",
       "      <td>0.000046</td>\n",
       "      <td>4.0</td>\n",
       "      <td>0.000042</td>\n",
       "      <td>1.000000</td>\n",
       "      <td>0.000005</td>\n",
       "      <td>0.4</td>\n",
       "      <td>0.000004</td>\n",
       "      <td>0.1</td>\n",
       "    </tr>\n",
       "    <tr>\n",
       "      <th>Sens.</th>\n",
       "      <td>0.000046</td>\n",
       "      <td>0.000046</td>\n",
       "      <td>0.000046</td>\n",
       "      <td>4.0</td>\n",
       "      <td>4.000000</td>\n",
       "      <td>4.0</td>\n",
       "      <td>0.000042</td>\n",
       "      <td>0.000042</td>\n",
       "      <td>0.000042</td>\n",
       "      <td>1.0</td>\n",
       "      <td>1.000000</td>\n",
       "      <td>1.0</td>\n",
       "    </tr>\n",
       "    <tr>\n",
       "      <th>Q+x</th>\n",
       "      <td>1.771535</td>\n",
       "      <td>41.771078</td>\n",
       "      <td>1.771498</td>\n",
       "      <td>9794.0</td>\n",
       "      <td>9784.000046</td>\n",
       "      <td>9788.0</td>\n",
       "      <td>1.950740</td>\n",
       "      <td>2.950698</td>\n",
       "      <td>1.950703</td>\n",
       "      <td>11422.4</td>\n",
       "      <td>11422.000004</td>\n",
       "      <td>11422.1</td>\n",
       "    </tr>\n",
       "    <tr>\n",
       "      <th>Q</th>\n",
       "      <td>1.771078</td>\n",
       "      <td>1.771078</td>\n",
       "      <td>1.771078</td>\n",
       "      <td>9784.0</td>\n",
       "      <td>9784.000000</td>\n",
       "      <td>9784.0</td>\n",
       "      <td>1.950698</td>\n",
       "      <td>1.950698</td>\n",
       "      <td>1.950698</td>\n",
       "      <td>11422.0</td>\n",
       "      <td>11422.000000</td>\n",
       "      <td>11422.0</td>\n",
       "    </tr>\n",
       "  </tbody>\n",
       "</table>\n",
       "</div>"
      ],
      "text/plain": [
       "                 0          1         2       3            4       5   \\\n",
       "x~Laplace  0.000456  40.000000  0.000420    10.0     0.000046     4.0   \n",
       "Sens.      0.000046   0.000046  0.000046     4.0     4.000000     4.0   \n",
       "Q+x        1.771535  41.771078  1.771498  9794.0  9784.000046  9788.0   \n",
       "Q          1.771078   1.771078  1.771078  9784.0  9784.000000  9784.0   \n",
       "\n",
       "                 6         7         8        9             10       11  \n",
       "x~Laplace  0.000042  1.000000  0.000005      0.4      0.000004      0.1  \n",
       "Sens.      0.000042  0.000042  0.000042      1.0      1.000000      1.0  \n",
       "Q+x        1.950740  2.950698  1.950703  11422.4  11422.000004  11422.1  \n",
       "Q          1.950698  1.950698  1.950698  11422.0  11422.000000  11422.0  "
      ]
     },
     "execution_count": 22,
     "metadata": {},
     "output_type": "execute_result"
    }
   ],
   "source": [
    "sens = [4.5636285693984036e-05, 4, 4.19586378328507e-05, 1]\n",
    "Priv(adult, sens, eps)"
   ]
  }
 ],
 "metadata": {
  "kernelspec": {
   "display_name": "Python 3",
   "language": "python",
   "name": "python3"
  },
  "language_info": {
   "codemirror_mode": {
    "name": "ipython",
    "version": 3
   },
   "file_extension": ".py",
   "mimetype": "text/x-python",
   "name": "python",
   "nbconvert_exporter": "python",
   "pygments_lexer": "ipython3",
   "version": "3.7.3"
  }
 },
 "nbformat": 4,
 "nbformat_minor": 4
}
