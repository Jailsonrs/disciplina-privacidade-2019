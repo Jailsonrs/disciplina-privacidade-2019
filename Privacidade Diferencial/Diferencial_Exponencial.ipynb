{
 "cells": [
  {
   "cell_type": "markdown",
   "metadata": {},
   "source": [
    "## Privacidade diferencial segundo o mecanismo de Laplace"
   ]
  },
  {
   "cell_type": "code",
   "execution_count": null,
   "metadata": {},
   "outputs": [],
   "source": [
    "import numpy as np\n",
    "import pandas as pd\n",
    "from scipy.stats import laplace\n",
    "import matplotlib.pyplot as plt\n",
    "import math\n",
    "import gc\n",
    "import inspect\n",
    "gc.enable()"
   ]
  },
  {
   "cell_type": "code",
   "execution_count": null,
   "metadata": {},
   "outputs": [],
   "source": [
    "adult = pd.read_csv(\"./data/raw/adult.csv\")\n",
    "adult = adult.rename(columns = {\"class\":\"Classe\"})"
   ]
  },
  {
   "cell_type": "code",
   "execution_count": null,
   "metadata": {},
   "outputs": [],
   "source": [
    "def Consulta(q, data, colname):\n",
    "    Q = {'avg': np.mean,\n",
    "         'soma': np.sum}\n",
    "    return(Q[q](data[colname])) "
   ]
  },
  {
   "cell_type": "code",
   "execution_count": null,
   "metadata": {},
   "outputs": [],
   "source": [
    "def agg(dataset):\n",
    "    Consultas = [Consulta('avg', dataset, 'age'),\n",
    "                 Consulta('soma', dataset, 'capitalgain'),\n",
    "                 Consulta('avg', dataset, 'hoursperweek'),\n",
    "                 Contagem(dataset, \">50K\")\n",
    "                ]\n",
    "    return(Consultas)"
   ]
  }
 ],
 "metadata": {
  "kernelspec": {
   "display_name": "Python 3",
   "language": "python",
   "name": "python3"
  },
  "language_info": {
   "codemirror_mode": {
    "name": "ipython",
    "version": 3
   },
   "file_extension": ".py",
   "mimetype": "text/x-python",
   "name": "python",
   "nbconvert_exporter": "python",
   "pygments_lexer": "ipython3",
   "version": "3.7.0"
  }
 },
 "nbformat": 4,
 "nbformat_minor": 2
}
